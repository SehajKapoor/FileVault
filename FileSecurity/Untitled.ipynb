{
 "cells": [
  {
   "cell_type": "code",
   "execution_count": 10,
   "id": "c6ab8db2",
   "metadata": {},
   "outputs": [],
   "source": [
    "from flask import Flask,request \n",
    "import pymysql.cursors\n",
    "import json \n",
    "from flask_cors import CORS\n",
    "from werkzeug.utils import secure_filename\n",
    "\n",
    "import numpy as np\n",
    "import os\n",
    "import cv2\n",
    "import pathlib\n",
    "import binascii\n",
    "from Crypto.Cipher import AES\n",
    "from Crypto import Random\n",
    "from hashlib import sha256\n",
    "from Crypto.PublicKey import RSA\n",
    "from Crypto.Cipher import PKCS1_OAEP\n",
    "import pywt\n",
    "from PIL import Image, ImageDraw, ImageFont\n",
    "import random\n",
    "\n",
    "import PyPDF2\n",
    "from fpdf import FPDF\n",
    "from PyPDF4 import PdfFileWriter, PdfFileReader\n",
    "from reportlab.lib.units import cm\n",
    "from reportlab.pdfgen import canvas\n",
    "import datetime\n",
    "\n",
    "app = Flask(__name__)\n",
    "\n",
    "UPLOAD_FOLDER = 'static/files/'\n",
    "app.config['UPLOAD_FOLDER'] = UPLOAD_FOLDER\n",
    "UPLOAD_KEY = 'static/keys/'\n",
    "app.config['UPLOAD_KEY'] = UPLOAD_KEY\n",
    "\n",
    "CORS(app)\n",
    "app.secret_key = 'any random string'\n",
    "\n",
    "def dbConnection():\n",
    "    try:\n",
    "        connection = pymysql.connect(host=\"localhost\", user=\"root\", password=\"root\", database=\"filesecurity\", charset='utf8mb4')\n",
    "        return connection\n",
    "    except:\n",
    "        print(\"Something went wrong in database Connection\")\n",
    "\n",
    "def dbClose():\n",
    "    try:\n",
    "        dbConnection().close()\n",
    "    except:\n",
    "        print(\"Something went wrong in Close DB Connection\")\n",
    "\n",
    "con = dbConnection()\n",
    "cursor = con.cursor()\n",
    "\n",
    "cursor.execute('SELECT uploaddate FROM uploadedfiles WHERE uploader = %s', (\"a\"))\n",
    "row1 = cursor.fetchall()         \n",
    "\n",
    "cursor.execute('SELECT recivedate FROM sharedfiles WHERE uploadername = %s', (\"a\"))\n",
    "row2 = cursor.fetchall()         \n",
    "\n",
    "cursor.execute('SELECT recivedate FROM sharedfiles WHERE receiver = %s', (\"a\"))\n",
    "row3 = cursor.fetchall() "
   ]
  },
  {
   "cell_type": "code",
   "execution_count": 25,
   "id": "e8ff0b2d",
   "metadata": {},
   "outputs": [
    {
     "name": "stdout",
     "output_type": "stream",
     "text": [
      "[['2022-08-25', 1], ['2022-08-22', 2], ['2022-08-27', 1], ['2022-08-17', 2]]\n",
      "[['2022-08-23', 6]]\n",
      "[]\n"
     ]
    }
   ],
   "source": [
    "flat_list1 = [item for sublist in row1 for item in sublist]\n",
    "flist1=[]\n",
    "for i in list(set(flat_list1)):\n",
    "    flist1.append([str(i),flat_list1.count(i)]) \n",
    "\n",
    "flat_list2 = [item for sublist in row2 for item in sublist]\n",
    "flist2=[]\n",
    "for j in list(set(flat_list2)):\n",
    "    flist2.append([str(j),flat_list2.count(j)]) \n",
    "    \n",
    "flat_list3 = [item for sublist in row3 for item in sublist]\n",
    "flist3=[]\n",
    "for k in list(set(flat_list3)):\n",
    "    flist3.append([str(k),flat_list3.count(k)]) \n",
    "    \n",
    "print(flist1)\n",
    "print(flist2)\n",
    "print(flist3)"
   ]
  },
  {
   "cell_type": "code",
   "execution_count": null,
   "id": "c284f3f7",
   "metadata": {},
   "outputs": [],
   "source": [
    "  "
   ]
  },
  {
   "cell_type": "code",
   "execution_count": null,
   "id": "b550da5b",
   "metadata": {},
   "outputs": [],
   "source": []
  }
 ],
 "metadata": {
  "kernelspec": {
   "display_name": "Python 3 (ipykernel)",
   "language": "python",
   "name": "python3"
  },
  "language_info": {
   "codemirror_mode": {
    "name": "ipython",
    "version": 3
   },
   "file_extension": ".py",
   "mimetype": "text/x-python",
   "name": "python",
   "nbconvert_exporter": "python",
   "pygments_lexer": "ipython3",
   "version": "3.8.13"
  }
 },
 "nbformat": 4,
 "nbformat_minor": 5
}
